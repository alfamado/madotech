{
 "cells": [
  {
   "cell_type": "code",
   "execution_count": 87,
   "id": "20d509c9",
   "metadata": {},
   "outputs": [],
   "source": [
    "import pandas as pd\n",
    "import numpy as np\n",
    "import matplotlib.pyplot as plt\n",
    "import seaborn as sns\n",
    "from pathlib import Path"
   ]
  },
  {
   "cell_type": "code",
   "execution_count": 88,
   "id": "82aa1698",
   "metadata": {},
   "outputs": [],
   "source": [
    "workspace = Path(\"workspace\")\n",
    "workspace.mkdir(exist_ok=True)\n",
    "sales_analysis = workspace / \"eletronic_sales.xlsx\""
   ]
  },
  {
   "cell_type": "code",
   "execution_count": 89,
   "id": "0a824887",
   "metadata": {},
   "outputs": [
    {
     "data": {
      "text/html": [
       "<div>\n",
       "<style scoped>\n",
       "    .dataframe tbody tr th:only-of-type {\n",
       "        vertical-align: middle;\n",
       "    }\n",
       "\n",
       "    .dataframe tbody tr th {\n",
       "        vertical-align: top;\n",
       "    }\n",
       "\n",
       "    .dataframe thead th {\n",
       "        text-align: right;\n",
       "    }\n",
       "</style>\n",
       "<table border=\"1\" class=\"dataframe\">\n",
       "  <thead>\n",
       "    <tr style=\"text-align: right;\">\n",
       "      <th></th>\n",
       "      <th>Date</th>\n",
       "      <th>Branch</th>\n",
       "      <th>Sales Agent</th>\n",
       "      <th>Products</th>\n",
       "      <th>Units</th>\n",
       "      <th>Price</th>\n",
       "    </tr>\n",
       "  </thead>\n",
       "  <tbody>\n",
       "    <tr>\n",
       "      <th>0</th>\n",
       "      <td>2014-09-01</td>\n",
       "      <td>Woji</td>\n",
       "      <td>Chinedu</td>\n",
       "      <td>Apple</td>\n",
       "      <td>2</td>\n",
       "      <td>125.00</td>\n",
       "    </tr>\n",
       "    <tr>\n",
       "      <th>1</th>\n",
       "      <td>2015-06-17</td>\n",
       "      <td>Woji</td>\n",
       "      <td>Emeka</td>\n",
       "      <td>Apple</td>\n",
       "      <td>5</td>\n",
       "      <td>125.00</td>\n",
       "    </tr>\n",
       "    <tr>\n",
       "      <th>2</th>\n",
       "      <td>2015-09-10</td>\n",
       "      <td>Woji</td>\n",
       "      <td>Ibrahim</td>\n",
       "      <td>Lenovo</td>\n",
       "      <td>7</td>\n",
       "      <td>1.29</td>\n",
       "    </tr>\n",
       "    <tr>\n",
       "      <th>3</th>\n",
       "      <td>2015-11-17</td>\n",
       "      <td>Woji</td>\n",
       "      <td>Tolu</td>\n",
       "      <td>HP</td>\n",
       "      <td>11</td>\n",
       "      <td>4.99</td>\n",
       "    </tr>\n",
       "    <tr>\n",
       "      <th>4</th>\n",
       "      <td>2015-10-31</td>\n",
       "      <td>Woji</td>\n",
       "      <td>Tonye</td>\n",
       "      <td>Lenovo</td>\n",
       "      <td>14</td>\n",
       "      <td>1.29</td>\n",
       "    </tr>\n",
       "  </tbody>\n",
       "</table>\n",
       "</div>"
      ],
      "text/plain": [
       "        Date Branch Sales Agent Products  Units   Price\n",
       "0 2014-09-01   Woji     Chinedu    Apple      2  125.00\n",
       "1 2015-06-17   Woji       Emeka    Apple      5  125.00\n",
       "2 2015-09-10   Woji     Ibrahim   Lenovo      7    1.29\n",
       "3 2015-11-17   Woji        Tolu       HP     11    4.99\n",
       "4 2015-10-31   Woji       Tonye   Lenovo     14    1.29"
      ]
     },
     "execution_count": 89,
     "metadata": {},
     "output_type": "execute_result"
    }
   ],
   "source": [
    "df = pd.read_excel(sales_analysis)\n",
    "df.head()"
   ]
  },
  {
   "cell_type": "code",
   "execution_count": 90,
   "id": "37308db2",
   "metadata": {},
   "outputs": [
    {
     "data": {
      "text/html": [
       "<div>\n",
       "<style scoped>\n",
       "    .dataframe tbody tr th:only-of-type {\n",
       "        vertical-align: middle;\n",
       "    }\n",
       "\n",
       "    .dataframe tbody tr th {\n",
       "        vertical-align: top;\n",
       "    }\n",
       "\n",
       "    .dataframe thead th {\n",
       "        text-align: right;\n",
       "    }\n",
       "</style>\n",
       "<table border=\"1\" class=\"dataframe\">\n",
       "  <thead>\n",
       "    <tr style=\"text-align: right;\">\n",
       "      <th></th>\n",
       "      <th>Date</th>\n",
       "      <th>Branch</th>\n",
       "      <th>Sales Agent</th>\n",
       "      <th>Products</th>\n",
       "      <th>Units</th>\n",
       "      <th>Price</th>\n",
       "      <th>Revenue</th>\n",
       "    </tr>\n",
       "  </thead>\n",
       "  <tbody>\n",
       "    <tr>\n",
       "      <th>0</th>\n",
       "      <td>2014-09-01</td>\n",
       "      <td>Woji</td>\n",
       "      <td>Chinedu</td>\n",
       "      <td>Apple</td>\n",
       "      <td>2</td>\n",
       "      <td>125.00</td>\n",
       "      <td>250000.0</td>\n",
       "    </tr>\n",
       "    <tr>\n",
       "      <th>1</th>\n",
       "      <td>2015-06-17</td>\n",
       "      <td>Woji</td>\n",
       "      <td>Emeka</td>\n",
       "      <td>Apple</td>\n",
       "      <td>5</td>\n",
       "      <td>125.00</td>\n",
       "      <td>625000.0</td>\n",
       "    </tr>\n",
       "    <tr>\n",
       "      <th>2</th>\n",
       "      <td>2015-09-10</td>\n",
       "      <td>Woji</td>\n",
       "      <td>Ibrahim</td>\n",
       "      <td>Lenovo</td>\n",
       "      <td>7</td>\n",
       "      <td>1.29</td>\n",
       "      <td>9030.0</td>\n",
       "    </tr>\n",
       "    <tr>\n",
       "      <th>3</th>\n",
       "      <td>2015-11-17</td>\n",
       "      <td>Woji</td>\n",
       "      <td>Tolu</td>\n",
       "      <td>HP</td>\n",
       "      <td>11</td>\n",
       "      <td>4.99</td>\n",
       "      <td>54890.0</td>\n",
       "    </tr>\n",
       "    <tr>\n",
       "      <th>4</th>\n",
       "      <td>2015-10-31</td>\n",
       "      <td>Woji</td>\n",
       "      <td>Tonye</td>\n",
       "      <td>Lenovo</td>\n",
       "      <td>14</td>\n",
       "      <td>1.29</td>\n",
       "      <td>18060.0</td>\n",
       "    </tr>\n",
       "    <tr>\n",
       "      <th>5</th>\n",
       "      <td>2014-02-26</td>\n",
       "      <td>Woji</td>\n",
       "      <td>Ibrahim</td>\n",
       "      <td>Compaq</td>\n",
       "      <td>27</td>\n",
       "      <td>19.99</td>\n",
       "      <td>539730.0</td>\n",
       "    </tr>\n",
       "    <tr>\n",
       "      <th>6</th>\n",
       "      <td>2014-10-05</td>\n",
       "      <td>Woji</td>\n",
       "      <td>George</td>\n",
       "      <td>HP</td>\n",
       "      <td>28</td>\n",
       "      <td>8.99</td>\n",
       "      <td>251720.0</td>\n",
       "    </tr>\n",
       "    <tr>\n",
       "      <th>7</th>\n",
       "      <td>2015-12-21</td>\n",
       "      <td>Woji</td>\n",
       "      <td>Tonye</td>\n",
       "      <td>HP</td>\n",
       "      <td>28</td>\n",
       "      <td>4.99</td>\n",
       "      <td>139720.0</td>\n",
       "    </tr>\n",
       "    <tr>\n",
       "      <th>8</th>\n",
       "      <td>2014-02-09</td>\n",
       "      <td>Woji</td>\n",
       "      <td>Tolu</td>\n",
       "      <td>Lenovo</td>\n",
       "      <td>36</td>\n",
       "      <td>4.99</td>\n",
       "      <td>179640.0</td>\n",
       "    </tr>\n",
       "    <tr>\n",
       "      <th>9</th>\n",
       "      <td>2015-08-07</td>\n",
       "      <td>Woji</td>\n",
       "      <td>Emeka</td>\n",
       "      <td>Dell</td>\n",
       "      <td>42</td>\n",
       "      <td>23.95</td>\n",
       "      <td>1005900.0</td>\n",
       "    </tr>\n",
       "    <tr>\n",
       "      <th>10</th>\n",
       "      <td>2015-01-15</td>\n",
       "      <td>Woji</td>\n",
       "      <td>Ibrahim</td>\n",
       "      <td>HP</td>\n",
       "      <td>46</td>\n",
       "      <td>8.99</td>\n",
       "      <td>413540.0</td>\n",
       "    </tr>\n",
       "    <tr>\n",
       "      <th>11</th>\n",
       "      <td>2014-01-23</td>\n",
       "      <td>Woji</td>\n",
       "      <td>Emeka</td>\n",
       "      <td>HP</td>\n",
       "      <td>50</td>\n",
       "      <td>19.99</td>\n",
       "      <td>999500.0</td>\n",
       "    </tr>\n",
       "    <tr>\n",
       "      <th>12</th>\n",
       "      <td>2015-03-24</td>\n",
       "      <td>Woji</td>\n",
       "      <td>Tolu</td>\n",
       "      <td>Dell</td>\n",
       "      <td>50</td>\n",
       "      <td>4.99</td>\n",
       "      <td>249500.0</td>\n",
       "    </tr>\n",
       "    <tr>\n",
       "      <th>13</th>\n",
       "      <td>2015-05-14</td>\n",
       "      <td>Woji</td>\n",
       "      <td>Ibrahim</td>\n",
       "      <td>Lenovo</td>\n",
       "      <td>53</td>\n",
       "      <td>1.29</td>\n",
       "      <td>68370.0</td>\n",
       "    </tr>\n",
       "    <tr>\n",
       "      <th>14</th>\n",
       "      <td>2015-07-21</td>\n",
       "      <td>Woji</td>\n",
       "      <td>George</td>\n",
       "      <td>Dell</td>\n",
       "      <td>55</td>\n",
       "      <td>12.49</td>\n",
       "      <td>686950.0</td>\n",
       "    </tr>\n",
       "    <tr>\n",
       "      <th>15</th>\n",
       "      <td>2015-04-10</td>\n",
       "      <td>Woji</td>\n",
       "      <td>Tonye</td>\n",
       "      <td>Lenovo</td>\n",
       "      <td>66</td>\n",
       "      <td>1.99</td>\n",
       "      <td>131340.0</td>\n",
       "    </tr>\n",
       "    <tr>\n",
       "      <th>16</th>\n",
       "      <td>2014-12-12</td>\n",
       "      <td>Woji</td>\n",
       "      <td>Chinedu</td>\n",
       "      <td>Lenovo</td>\n",
       "      <td>67</td>\n",
       "      <td>1.29</td>\n",
       "      <td>86430.0</td>\n",
       "    </tr>\n",
       "    <tr>\n",
       "      <th>17</th>\n",
       "      <td>2014-04-18</td>\n",
       "      <td>Woji</td>\n",
       "      <td>Tonye</td>\n",
       "      <td>Lenovo</td>\n",
       "      <td>75</td>\n",
       "      <td>1.99</td>\n",
       "      <td>149250.0</td>\n",
       "    </tr>\n",
       "    <tr>\n",
       "      <th>18</th>\n",
       "      <td>2015-05-31</td>\n",
       "      <td>Woji</td>\n",
       "      <td>Ibrahim</td>\n",
       "      <td>HP</td>\n",
       "      <td>80</td>\n",
       "      <td>8.99</td>\n",
       "      <td>719200.0</td>\n",
       "    </tr>\n",
       "    <tr>\n",
       "      <th>19</th>\n",
       "      <td>2015-02-01</td>\n",
       "      <td>Woji</td>\n",
       "      <td>Chinedu</td>\n",
       "      <td>HP</td>\n",
       "      <td>87</td>\n",
       "      <td>15.00</td>\n",
       "      <td>1305000.0</td>\n",
       "    </tr>\n",
       "    <tr>\n",
       "      <th>20</th>\n",
       "      <td>2014-05-05</td>\n",
       "      <td>Woji</td>\n",
       "      <td>Tolu</td>\n",
       "      <td>Lenovo</td>\n",
       "      <td>90</td>\n",
       "      <td>4.99</td>\n",
       "      <td>449100.0</td>\n",
       "    </tr>\n",
       "    <tr>\n",
       "      <th>21</th>\n",
       "      <td>2014-06-25</td>\n",
       "      <td>Woji</td>\n",
       "      <td>George</td>\n",
       "      <td>Lenovo</td>\n",
       "      <td>90</td>\n",
       "      <td>4.99</td>\n",
       "      <td>449100.0</td>\n",
       "    </tr>\n",
       "    <tr>\n",
       "      <th>22</th>\n",
       "      <td>2015-12-04</td>\n",
       "      <td>Woji</td>\n",
       "      <td>Tolu</td>\n",
       "      <td>HP</td>\n",
       "      <td>94</td>\n",
       "      <td>19.99</td>\n",
       "      <td>1879060.0</td>\n",
       "    </tr>\n",
       "    <tr>\n",
       "      <th>23</th>\n",
       "      <td>2014-11-25</td>\n",
       "      <td>Woji</td>\n",
       "      <td>Emeka</td>\n",
       "      <td>Dell</td>\n",
       "      <td>96</td>\n",
       "      <td>4.99</td>\n",
       "      <td>479040.0</td>\n",
       "    </tr>\n",
       "    <tr>\n",
       "      <th>24</th>\n",
       "      <td>2015-02-18</td>\n",
       "      <td>GRA</td>\n",
       "      <td>Blessing</td>\n",
       "      <td>HP</td>\n",
       "      <td>4</td>\n",
       "      <td>4.99</td>\n",
       "      <td>19960.0</td>\n",
       "    </tr>\n",
       "    <tr>\n",
       "      <th>25</th>\n",
       "      <td>2014-11-08</td>\n",
       "      <td>GRA</td>\n",
       "      <td>Chioma</td>\n",
       "      <td>Compaq</td>\n",
       "      <td>15</td>\n",
       "      <td>19.99</td>\n",
       "      <td>299850.0</td>\n",
       "    </tr>\n",
       "    <tr>\n",
       "      <th>26</th>\n",
       "      <td>2014-09-18</td>\n",
       "      <td>GRA</td>\n",
       "      <td>Blessing</td>\n",
       "      <td>Dell</td>\n",
       "      <td>16</td>\n",
       "      <td>15.99</td>\n",
       "      <td>255840.0</td>\n",
       "    </tr>\n",
       "    <tr>\n",
       "      <th>27</th>\n",
       "      <td>2014-07-12</td>\n",
       "      <td>GRA</td>\n",
       "      <td>Torbari</td>\n",
       "      <td>HP</td>\n",
       "      <td>29</td>\n",
       "      <td>1.99</td>\n",
       "      <td>57710.0</td>\n",
       "    </tr>\n",
       "    <tr>\n",
       "      <th>28</th>\n",
       "      <td>2014-08-15</td>\n",
       "      <td>GRA</td>\n",
       "      <td>Blessing</td>\n",
       "      <td>Lenovo</td>\n",
       "      <td>35</td>\n",
       "      <td>4.99</td>\n",
       "      <td>174650.0</td>\n",
       "    </tr>\n",
       "    <tr>\n",
       "      <th>29</th>\n",
       "      <td>2014-04-01</td>\n",
       "      <td>GRA</td>\n",
       "      <td>Blessing</td>\n",
       "      <td>HP</td>\n",
       "      <td>60</td>\n",
       "      <td>4.99</td>\n",
       "      <td>299400.0</td>\n",
       "    </tr>\n",
       "    <tr>\n",
       "      <th>30</th>\n",
       "      <td>2014-06-08</td>\n",
       "      <td>GRA</td>\n",
       "      <td>Blessing</td>\n",
       "      <td>HP</td>\n",
       "      <td>60</td>\n",
       "      <td>8.99</td>\n",
       "      <td>539400.0</td>\n",
       "    </tr>\n",
       "    <tr>\n",
       "      <th>31</th>\n",
       "      <td>2015-07-04</td>\n",
       "      <td>GRA</td>\n",
       "      <td>Blessing</td>\n",
       "      <td>Dell</td>\n",
       "      <td>62</td>\n",
       "      <td>4.99</td>\n",
       "      <td>309380.0</td>\n",
       "    </tr>\n",
       "    <tr>\n",
       "      <th>32</th>\n",
       "      <td>2014-10-22</td>\n",
       "      <td>GRA</td>\n",
       "      <td>Blessing</td>\n",
       "      <td>Compaq</td>\n",
       "      <td>64</td>\n",
       "      <td>8.99</td>\n",
       "      <td>575360.0</td>\n",
       "    </tr>\n",
       "    <tr>\n",
       "      <th>33</th>\n",
       "      <td>2014-12-29</td>\n",
       "      <td>GRA</td>\n",
       "      <td>Chioma</td>\n",
       "      <td>Dell</td>\n",
       "      <td>74</td>\n",
       "      <td>15.99</td>\n",
       "      <td>1183260.0</td>\n",
       "    </tr>\n",
       "    <tr>\n",
       "      <th>34</th>\n",
       "      <td>2014-07-29</td>\n",
       "      <td>GRA</td>\n",
       "      <td>Chioma</td>\n",
       "      <td>HP</td>\n",
       "      <td>81</td>\n",
       "      <td>19.99</td>\n",
       "      <td>1619190.0</td>\n",
       "    </tr>\n",
       "    <tr>\n",
       "      <th>35</th>\n",
       "      <td>2014-01-06</td>\n",
       "      <td>GRA</td>\n",
       "      <td>Blessing</td>\n",
       "      <td>Lenovo</td>\n",
       "      <td>95</td>\n",
       "      <td>1.99</td>\n",
       "      <td>189050.0</td>\n",
       "    </tr>\n",
       "    <tr>\n",
       "      <th>36</th>\n",
       "      <td>2015-04-27</td>\n",
       "      <td>GRA</td>\n",
       "      <td>Torbari</td>\n",
       "      <td>Compaq</td>\n",
       "      <td>96</td>\n",
       "      <td>4.99</td>\n",
       "      <td>479040.0</td>\n",
       "    </tr>\n",
       "    <tr>\n",
       "      <th>37</th>\n",
       "      <td>2015-08-24</td>\n",
       "      <td>Town</td>\n",
       "      <td>Uche</td>\n",
       "      <td>Apple</td>\n",
       "      <td>3</td>\n",
       "      <td>275.00</td>\n",
       "      <td>825000.0</td>\n",
       "    </tr>\n",
       "    <tr>\n",
       "      <th>38</th>\n",
       "      <td>2015-03-07</td>\n",
       "      <td>Town</td>\n",
       "      <td>Uche</td>\n",
       "      <td>HP</td>\n",
       "      <td>7</td>\n",
       "      <td>19.99</td>\n",
       "      <td>139930.0</td>\n",
       "    </tr>\n",
       "    <tr>\n",
       "      <th>39</th>\n",
       "      <td>2014-05-22</td>\n",
       "      <td>Town</td>\n",
       "      <td>Tunde</td>\n",
       "      <td>Lenovo</td>\n",
       "      <td>32</td>\n",
       "      <td>1.99</td>\n",
       "      <td>63680.0</td>\n",
       "    </tr>\n",
       "    <tr>\n",
       "      <th>40</th>\n",
       "      <td>2014-03-15</td>\n",
       "      <td>Town</td>\n",
       "      <td>Uche</td>\n",
       "      <td>Lenovo</td>\n",
       "      <td>56</td>\n",
       "      <td>2.99</td>\n",
       "      <td>167440.0</td>\n",
       "    </tr>\n",
       "    <tr>\n",
       "      <th>41</th>\n",
       "      <td>2015-10-14</td>\n",
       "      <td>Town</td>\n",
       "      <td>Tunde</td>\n",
       "      <td>HP</td>\n",
       "      <td>57</td>\n",
       "      <td>19.99</td>\n",
       "      <td>1139430.0</td>\n",
       "    </tr>\n",
       "    <tr>\n",
       "      <th>42</th>\n",
       "      <td>2015-09-27</td>\n",
       "      <td>Town</td>\n",
       "      <td>Uche</td>\n",
       "      <td>Compaq</td>\n",
       "      <td>76</td>\n",
       "      <td>1.99</td>\n",
       "      <td>151240.0</td>\n",
       "    </tr>\n",
       "  </tbody>\n",
       "</table>\n",
       "</div>"
      ],
      "text/plain": [
       "         Date Branch Sales Agent Products  Units   Price    Revenue\n",
       "0  2014-09-01   Woji     Chinedu    Apple      2  125.00   250000.0\n",
       "1  2015-06-17   Woji       Emeka    Apple      5  125.00   625000.0\n",
       "2  2015-09-10   Woji     Ibrahim   Lenovo      7    1.29     9030.0\n",
       "3  2015-11-17   Woji        Tolu       HP     11    4.99    54890.0\n",
       "4  2015-10-31   Woji       Tonye   Lenovo     14    1.29    18060.0\n",
       "5  2014-02-26   Woji     Ibrahim   Compaq     27   19.99   539730.0\n",
       "6  2014-10-05   Woji      George       HP     28    8.99   251720.0\n",
       "7  2015-12-21   Woji       Tonye       HP     28    4.99   139720.0\n",
       "8  2014-02-09   Woji        Tolu   Lenovo     36    4.99   179640.0\n",
       "9  2015-08-07   Woji       Emeka     Dell     42   23.95  1005900.0\n",
       "10 2015-01-15   Woji     Ibrahim       HP     46    8.99   413540.0\n",
       "11 2014-01-23   Woji       Emeka       HP     50   19.99   999500.0\n",
       "12 2015-03-24   Woji        Tolu     Dell     50    4.99   249500.0\n",
       "13 2015-05-14   Woji     Ibrahim   Lenovo     53    1.29    68370.0\n",
       "14 2015-07-21   Woji      George     Dell     55   12.49   686950.0\n",
       "15 2015-04-10   Woji       Tonye   Lenovo     66    1.99   131340.0\n",
       "16 2014-12-12   Woji     Chinedu   Lenovo     67    1.29    86430.0\n",
       "17 2014-04-18   Woji       Tonye   Lenovo     75    1.99   149250.0\n",
       "18 2015-05-31   Woji     Ibrahim       HP     80    8.99   719200.0\n",
       "19 2015-02-01   Woji     Chinedu       HP     87   15.00  1305000.0\n",
       "20 2014-05-05   Woji        Tolu   Lenovo     90    4.99   449100.0\n",
       "21 2014-06-25   Woji      George   Lenovo     90    4.99   449100.0\n",
       "22 2015-12-04   Woji        Tolu       HP     94   19.99  1879060.0\n",
       "23 2014-11-25   Woji       Emeka     Dell     96    4.99   479040.0\n",
       "24 2015-02-18    GRA    Blessing       HP      4    4.99    19960.0\n",
       "25 2014-11-08    GRA      Chioma   Compaq     15   19.99   299850.0\n",
       "26 2014-09-18    GRA    Blessing     Dell     16   15.99   255840.0\n",
       "27 2014-07-12    GRA     Torbari       HP     29    1.99    57710.0\n",
       "28 2014-08-15    GRA    Blessing   Lenovo     35    4.99   174650.0\n",
       "29 2014-04-01    GRA    Blessing       HP     60    4.99   299400.0\n",
       "30 2014-06-08    GRA    Blessing       HP     60    8.99   539400.0\n",
       "31 2015-07-04    GRA    Blessing     Dell     62    4.99   309380.0\n",
       "32 2014-10-22    GRA    Blessing   Compaq     64    8.99   575360.0\n",
       "33 2014-12-29    GRA      Chioma     Dell     74   15.99  1183260.0\n",
       "34 2014-07-29    GRA      Chioma       HP     81   19.99  1619190.0\n",
       "35 2014-01-06    GRA    Blessing   Lenovo     95    1.99   189050.0\n",
       "36 2015-04-27    GRA     Torbari   Compaq     96    4.99   479040.0\n",
       "37 2015-08-24   Town        Uche    Apple      3  275.00   825000.0\n",
       "38 2015-03-07   Town        Uche       HP      7   19.99   139930.0\n",
       "39 2014-05-22   Town       Tunde   Lenovo     32    1.99    63680.0\n",
       "40 2014-03-15   Town        Uche   Lenovo     56    2.99   167440.0\n",
       "41 2015-10-14   Town       Tunde       HP     57   19.99  1139430.0\n",
       "42 2015-09-27   Town        Uche   Compaq     76    1.99   151240.0"
      ]
     },
     "execution_count": 90,
     "metadata": {},
     "output_type": "execute_result"
    }
   ],
   "source": [
    "df[\"Revenue\"] = round(df[\"Units\"] * df[\"Price\"] * 1000,2)\n",
    "df"
   ]
  },
  {
   "cell_type": "code",
   "execution_count": 91,
   "id": "05063f47",
   "metadata": {},
   "outputs": [
    {
     "data": {
      "text/html": [
       "<div>\n",
       "<style scoped>\n",
       "    .dataframe tbody tr th:only-of-type {\n",
       "        vertical-align: middle;\n",
       "    }\n",
       "\n",
       "    .dataframe tbody tr th {\n",
       "        vertical-align: top;\n",
       "    }\n",
       "\n",
       "    .dataframe thead th {\n",
       "        text-align: right;\n",
       "    }\n",
       "</style>\n",
       "<table border=\"1\" class=\"dataframe\">\n",
       "  <thead>\n",
       "    <tr style=\"text-align: right;\">\n",
       "      <th></th>\n",
       "      <th>Date</th>\n",
       "      <th>Branch</th>\n",
       "      <th>Sales Agent</th>\n",
       "      <th>Products</th>\n",
       "      <th>Units</th>\n",
       "      <th>Price</th>\n",
       "      <th>Revenue</th>\n",
       "    </tr>\n",
       "  </thead>\n",
       "  <tbody>\n",
       "    <tr>\n",
       "      <th>0</th>\n",
       "      <td>2014-09-01</td>\n",
       "      <td>Woji</td>\n",
       "      <td>Chinedu</td>\n",
       "      <td>Apple</td>\n",
       "      <td>2</td>\n",
       "      <td>125.00</td>\n",
       "      <td>250000.0</td>\n",
       "    </tr>\n",
       "    <tr>\n",
       "      <th>1</th>\n",
       "      <td>2015-06-17</td>\n",
       "      <td>Woji</td>\n",
       "      <td>Emeka</td>\n",
       "      <td>Apple</td>\n",
       "      <td>5</td>\n",
       "      <td>125.00</td>\n",
       "      <td>625000.0</td>\n",
       "    </tr>\n",
       "    <tr>\n",
       "      <th>2</th>\n",
       "      <td>2015-09-10</td>\n",
       "      <td>Woji</td>\n",
       "      <td>Ibrahim</td>\n",
       "      <td>Lenovo</td>\n",
       "      <td>7</td>\n",
       "      <td>1.29</td>\n",
       "      <td>9030.0</td>\n",
       "    </tr>\n",
       "    <tr>\n",
       "      <th>3</th>\n",
       "      <td>2015-11-17</td>\n",
       "      <td>Woji</td>\n",
       "      <td>Tolu</td>\n",
       "      <td>HP</td>\n",
       "      <td>11</td>\n",
       "      <td>4.99</td>\n",
       "      <td>54890.0</td>\n",
       "    </tr>\n",
       "    <tr>\n",
       "      <th>4</th>\n",
       "      <td>2015-10-31</td>\n",
       "      <td>Woji</td>\n",
       "      <td>Tonye</td>\n",
       "      <td>Lenovo</td>\n",
       "      <td>14</td>\n",
       "      <td>1.29</td>\n",
       "      <td>18060.0</td>\n",
       "    </tr>\n",
       "  </tbody>\n",
       "</table>\n",
       "</div>"
      ],
      "text/plain": [
       "        Date Branch Sales Agent Products  Units   Price   Revenue\n",
       "0 2014-09-01   Woji     Chinedu    Apple      2  125.00  250000.0\n",
       "1 2015-06-17   Woji       Emeka    Apple      5  125.00  625000.0\n",
       "2 2015-09-10   Woji     Ibrahim   Lenovo      7    1.29    9030.0\n",
       "3 2015-11-17   Woji        Tolu       HP     11    4.99   54890.0\n",
       "4 2015-10-31   Woji       Tonye   Lenovo     14    1.29   18060.0"
      ]
     },
     "execution_count": 91,
     "metadata": {},
     "output_type": "execute_result"
    }
   ],
   "source": [
    "df[\"Date\"] = pd.to_datetime(df[\"Date\"])\n",
    "df.head()"
   ]
  },
  {
   "cell_type": "code",
   "execution_count": 92,
   "id": "ee0512e4",
   "metadata": {},
   "outputs": [],
   "source": [
    "df[\"Day\"] = df[\"Date\"].dt.day_name()\n",
    "df[\"Month\"] = df[\"Date\"].dt.month_name()\n",
    "df[\"Year\"] = df[\"Date\"].dt.year"
   ]
  },
  {
   "cell_type": "code",
   "execution_count": 93,
   "id": "3f3f5aa1",
   "metadata": {},
   "outputs": [
    {
     "data": {
      "text/html": [
       "<div>\n",
       "<style scoped>\n",
       "    .dataframe tbody tr th:only-of-type {\n",
       "        vertical-align: middle;\n",
       "    }\n",
       "\n",
       "    .dataframe tbody tr th {\n",
       "        vertical-align: top;\n",
       "    }\n",
       "\n",
       "    .dataframe thead th {\n",
       "        text-align: right;\n",
       "    }\n",
       "</style>\n",
       "<table border=\"1\" class=\"dataframe\">\n",
       "  <thead>\n",
       "    <tr style=\"text-align: right;\">\n",
       "      <th></th>\n",
       "      <th>Date</th>\n",
       "      <th>Branch</th>\n",
       "      <th>Sales Agent</th>\n",
       "      <th>Products</th>\n",
       "      <th>Units</th>\n",
       "      <th>Price</th>\n",
       "      <th>Revenue</th>\n",
       "      <th>Day</th>\n",
       "      <th>Month</th>\n",
       "      <th>Year</th>\n",
       "    </tr>\n",
       "  </thead>\n",
       "  <tbody>\n",
       "    <tr>\n",
       "      <th>0</th>\n",
       "      <td>2014-09-01</td>\n",
       "      <td>Woji</td>\n",
       "      <td>Chinedu</td>\n",
       "      <td>Apple</td>\n",
       "      <td>2</td>\n",
       "      <td>125.00</td>\n",
       "      <td>250000.0</td>\n",
       "      <td>Monday</td>\n",
       "      <td>September</td>\n",
       "      <td>2014</td>\n",
       "    </tr>\n",
       "    <tr>\n",
       "      <th>1</th>\n",
       "      <td>2015-06-17</td>\n",
       "      <td>Woji</td>\n",
       "      <td>Emeka</td>\n",
       "      <td>Apple</td>\n",
       "      <td>5</td>\n",
       "      <td>125.00</td>\n",
       "      <td>625000.0</td>\n",
       "      <td>Wednesday</td>\n",
       "      <td>June</td>\n",
       "      <td>2015</td>\n",
       "    </tr>\n",
       "    <tr>\n",
       "      <th>2</th>\n",
       "      <td>2015-09-10</td>\n",
       "      <td>Woji</td>\n",
       "      <td>Ibrahim</td>\n",
       "      <td>Lenovo</td>\n",
       "      <td>7</td>\n",
       "      <td>1.29</td>\n",
       "      <td>9030.0</td>\n",
       "      <td>Thursday</td>\n",
       "      <td>September</td>\n",
       "      <td>2015</td>\n",
       "    </tr>\n",
       "    <tr>\n",
       "      <th>3</th>\n",
       "      <td>2015-11-17</td>\n",
       "      <td>Woji</td>\n",
       "      <td>Tolu</td>\n",
       "      <td>HP</td>\n",
       "      <td>11</td>\n",
       "      <td>4.99</td>\n",
       "      <td>54890.0</td>\n",
       "      <td>Tuesday</td>\n",
       "      <td>November</td>\n",
       "      <td>2015</td>\n",
       "    </tr>\n",
       "    <tr>\n",
       "      <th>4</th>\n",
       "      <td>2015-10-31</td>\n",
       "      <td>Woji</td>\n",
       "      <td>Tonye</td>\n",
       "      <td>Lenovo</td>\n",
       "      <td>14</td>\n",
       "      <td>1.29</td>\n",
       "      <td>18060.0</td>\n",
       "      <td>Saturday</td>\n",
       "      <td>October</td>\n",
       "      <td>2015</td>\n",
       "    </tr>\n",
       "  </tbody>\n",
       "</table>\n",
       "</div>"
      ],
      "text/plain": [
       "        Date Branch Sales Agent Products  Units   Price   Revenue        Day  \\\n",
       "0 2014-09-01   Woji     Chinedu    Apple      2  125.00  250000.0     Monday   \n",
       "1 2015-06-17   Woji       Emeka    Apple      5  125.00  625000.0  Wednesday   \n",
       "2 2015-09-10   Woji     Ibrahim   Lenovo      7    1.29    9030.0   Thursday   \n",
       "3 2015-11-17   Woji        Tolu       HP     11    4.99   54890.0    Tuesday   \n",
       "4 2015-10-31   Woji       Tonye   Lenovo     14    1.29   18060.0   Saturday   \n",
       "\n",
       "       Month  Year  \n",
       "0  September  2014  \n",
       "1       June  2015  \n",
       "2  September  2015  \n",
       "3   November  2015  \n",
       "4    October  2015  "
      ]
     },
     "execution_count": 93,
     "metadata": {},
     "output_type": "execute_result"
    }
   ],
   "source": [
    "df.head()"
   ]
  },
  {
   "cell_type": "code",
   "execution_count": 94,
   "id": "d909399b",
   "metadata": {},
   "outputs": [
    {
     "name": "stdout",
     "output_type": "stream",
     "text": [
      "Total Item Sold for 2014 and 2015: 2121 units\n"
     ]
    }
   ],
   "source": [
    "Total_item_sold = df[\"Units\"].sum()\n",
    "print(f\"Total Item Sold for 2014 and 2015: {Total_item_sold} units\")"
   ]
  },
  {
   "cell_type": "code",
   "execution_count": 95,
   "id": "f949d01b",
   "metadata": {},
   "outputs": [
    {
     "name": "stdout",
     "output_type": "stream",
     "text": [
      "Total Revenue generated from 2014 and 2015: 19627880.0\n"
     ]
    }
   ],
   "source": [
    "Total_revenue_sold = df[\"Revenue\"].sum()\n",
    "print(f\"Total Revenue generated from 2014 and 2015: {Total_revenue_sold}\")"
   ]
  },
  {
   "cell_type": "code",
   "execution_count": 96,
   "id": "e72fb7eb",
   "metadata": {},
   "outputs": [
    {
     "name": "stdout",
     "output_type": "stream",
     "text": [
      "Average price per unit: 9254.07\n"
     ]
    }
   ],
   "source": [
    "average_price_per_unit = round(Total_revenue_sold / Total_item_sold, 2)\n",
    "print(f\"Average price per unit: {average_price_per_unit}\")"
   ]
  },
  {
   "cell_type": "code",
   "execution_count": 97,
   "id": "a9baab76",
   "metadata": {},
   "outputs": [
    {
     "data": {
      "text/plain": [
       "Year\n",
       "2014    1178\n",
       "2015     943\n",
       "Name: Units, dtype: int64"
      ]
     },
     "execution_count": 97,
     "metadata": {},
     "output_type": "execute_result"
    }
   ],
   "source": [
    "total_item_sold_per_year = df.groupby(\"Year\")[\"Units\"].sum().sort_values(ascending=False)\n",
    "total_item_sold_per_year"
   ]
  },
  {
   "cell_type": "code",
   "execution_count": 98,
   "id": "865f069b",
   "metadata": {},
   "outputs": [
    {
     "data": {
      "text/plain": [
       "Year\n",
       "2014     9258340.0\n",
       "2015    10369540.0\n",
       "Name: Revenue, dtype: float64"
      ]
     },
     "execution_count": 98,
     "metadata": {},
     "output_type": "execute_result"
    }
   ],
   "source": [
    "total_revenue_sold_per_year = df.groupby(\"Year\")[\"Revenue\"].sum().sort_values(ascending=True)\n",
    "total_revenue_sold_per_year"
   ]
  },
  {
   "cell_type": "code",
   "execution_count": 99,
   "id": "34257f88",
   "metadata": {},
   "outputs": [
    {
     "data": {
      "text/plain": [
       "Year\n",
       "2014     7859.37\n",
       "2015    10996.33\n",
       "dtype: float64"
      ]
     },
     "execution_count": 99,
     "metadata": {},
     "output_type": "execute_result"
    }
   ],
   "source": [
    "average_price_per_unit_year = round(total_revenue_sold_per_year / total_item_sold_per_year, 2)\n",
    "average_price_per_unit_year"
   ]
  },
  {
   "cell_type": "code",
   "execution_count": 100,
   "id": "702c425c",
   "metadata": {},
   "outputs": [
    {
     "name": "stdout",
     "output_type": "stream",
     "text": [
      "Number of Products: 5\n"
     ]
    }
   ],
   "source": [
    "Number_of_products = df[\"Products\"].nunique()\n",
    "print(f\"Number of Products: {Number_of_products}\")"
   ]
  },
  {
   "cell_type": "code",
   "execution_count": 101,
   "id": "dd10af6a",
   "metadata": {},
   "outputs": [
    {
     "name": "stdout",
     "output_type": "stream",
     "text": [
      "Unique Products are: ['Apple' 'Lenovo' 'HP' 'Compaq' 'Dell']\n"
     ]
    }
   ],
   "source": [
    "Name_of_products = df[\"Products\"].unique()\n",
    "print(f\"Unique Products are: {Name_of_products}\")"
   ]
  },
  {
   "cell_type": "code",
   "execution_count": 102,
   "id": "55844121",
   "metadata": {},
   "outputs": [
    {
     "name": "stdout",
     "output_type": "stream",
     "text": [
      "Number of Sales Agents: 11\n"
     ]
    }
   ],
   "source": [
    "Number_of_sales_rep = df[\"Sales Agent\"].nunique()\n",
    "print(f\"Number of Sales Agents: {Number_of_sales_rep}\")"
   ]
  },
  {
   "cell_type": "code",
   "execution_count": 103,
   "id": "82603043",
   "metadata": {},
   "outputs": [
    {
     "name": "stdout",
     "output_type": "stream",
     "text": [
      "Names of Sales Agent: ['Chinedu' 'Emeka' 'Ibrahim' 'Tolu' 'Tonye' 'George' 'Blessing' 'Chioma'\n",
      " 'Torbari' 'Uche' 'Tunde']\n"
     ]
    }
   ],
   "source": [
    "Names_of_sales_rep = df[\"Sales Agent\"].unique()\n",
    "print(f\"Names of Sales Agent: {Names_of_sales_rep}\")"
   ]
  },
  {
   "cell_type": "code",
   "execution_count": 104,
   "id": "192b6a3e",
   "metadata": {},
   "outputs": [],
   "source": [
    "df.set_index(\"Date\", inplace=True)"
   ]
  },
  {
   "cell_type": "code",
   "execution_count": 105,
   "id": "43a6464e",
   "metadata": {},
   "outputs": [
    {
     "data": {
      "text/plain": [
       "array([2014, 2015], dtype=int32)"
      ]
     },
     "execution_count": 105,
     "metadata": {},
     "output_type": "execute_result"
    }
   ],
   "source": [
    "df.Year.unique()"
   ]
  },
  {
   "cell_type": "code",
   "execution_count": 106,
   "id": "6fb269e2",
   "metadata": {},
   "outputs": [],
   "source": [
    "sales_2014 = df[df[\"Year\"] == 2014]"
   ]
  },
  {
   "cell_type": "code",
   "execution_count": 107,
   "id": "c7ee22b4",
   "metadata": {},
   "outputs": [
    {
     "data": {
      "text/html": [
       "<div>\n",
       "<style scoped>\n",
       "    .dataframe tbody tr th:only-of-type {\n",
       "        vertical-align: middle;\n",
       "    }\n",
       "\n",
       "    .dataframe tbody tr th {\n",
       "        vertical-align: top;\n",
       "    }\n",
       "\n",
       "    .dataframe thead th {\n",
       "        text-align: right;\n",
       "    }\n",
       "</style>\n",
       "<table border=\"1\" class=\"dataframe\">\n",
       "  <thead>\n",
       "    <tr style=\"text-align: right;\">\n",
       "      <th></th>\n",
       "      <th>Branch</th>\n",
       "      <th>Sales Agent</th>\n",
       "      <th>Products</th>\n",
       "      <th>Units</th>\n",
       "      <th>Price</th>\n",
       "      <th>Revenue</th>\n",
       "      <th>Day</th>\n",
       "      <th>Month</th>\n",
       "      <th>Year</th>\n",
       "    </tr>\n",
       "    <tr>\n",
       "      <th>Date</th>\n",
       "      <th></th>\n",
       "      <th></th>\n",
       "      <th></th>\n",
       "      <th></th>\n",
       "      <th></th>\n",
       "      <th></th>\n",
       "      <th></th>\n",
       "      <th></th>\n",
       "      <th></th>\n",
       "    </tr>\n",
       "  </thead>\n",
       "  <tbody>\n",
       "    <tr>\n",
       "      <th>2014-09-01</th>\n",
       "      <td>Woji</td>\n",
       "      <td>Chinedu</td>\n",
       "      <td>Apple</td>\n",
       "      <td>2</td>\n",
       "      <td>125.00</td>\n",
       "      <td>250000.0</td>\n",
       "      <td>Monday</td>\n",
       "      <td>September</td>\n",
       "      <td>2014</td>\n",
       "    </tr>\n",
       "    <tr>\n",
       "      <th>2014-02-26</th>\n",
       "      <td>Woji</td>\n",
       "      <td>Ibrahim</td>\n",
       "      <td>Compaq</td>\n",
       "      <td>27</td>\n",
       "      <td>19.99</td>\n",
       "      <td>539730.0</td>\n",
       "      <td>Wednesday</td>\n",
       "      <td>February</td>\n",
       "      <td>2014</td>\n",
       "    </tr>\n",
       "    <tr>\n",
       "      <th>2014-10-05</th>\n",
       "      <td>Woji</td>\n",
       "      <td>George</td>\n",
       "      <td>HP</td>\n",
       "      <td>28</td>\n",
       "      <td>8.99</td>\n",
       "      <td>251720.0</td>\n",
       "      <td>Sunday</td>\n",
       "      <td>October</td>\n",
       "      <td>2014</td>\n",
       "    </tr>\n",
       "    <tr>\n",
       "      <th>2014-02-09</th>\n",
       "      <td>Woji</td>\n",
       "      <td>Tolu</td>\n",
       "      <td>Lenovo</td>\n",
       "      <td>36</td>\n",
       "      <td>4.99</td>\n",
       "      <td>179640.0</td>\n",
       "      <td>Sunday</td>\n",
       "      <td>February</td>\n",
       "      <td>2014</td>\n",
       "    </tr>\n",
       "    <tr>\n",
       "      <th>2014-01-23</th>\n",
       "      <td>Woji</td>\n",
       "      <td>Emeka</td>\n",
       "      <td>HP</td>\n",
       "      <td>50</td>\n",
       "      <td>19.99</td>\n",
       "      <td>999500.0</td>\n",
       "      <td>Thursday</td>\n",
       "      <td>January</td>\n",
       "      <td>2014</td>\n",
       "    </tr>\n",
       "  </tbody>\n",
       "</table>\n",
       "</div>"
      ],
      "text/plain": [
       "           Branch Sales Agent Products  Units   Price   Revenue        Day  \\\n",
       "Date                                                                         \n",
       "2014-09-01   Woji     Chinedu    Apple      2  125.00  250000.0     Monday   \n",
       "2014-02-26   Woji     Ibrahim   Compaq     27   19.99  539730.0  Wednesday   \n",
       "2014-10-05   Woji      George       HP     28    8.99  251720.0     Sunday   \n",
       "2014-02-09   Woji        Tolu   Lenovo     36    4.99  179640.0     Sunday   \n",
       "2014-01-23   Woji       Emeka       HP     50   19.99  999500.0   Thursday   \n",
       "\n",
       "                Month  Year  \n",
       "Date                         \n",
       "2014-09-01  September  2014  \n",
       "2014-02-26   February  2014  \n",
       "2014-10-05    October  2014  \n",
       "2014-02-09   February  2014  \n",
       "2014-01-23    January  2014  "
      ]
     },
     "execution_count": 107,
     "metadata": {},
     "output_type": "execute_result"
    }
   ],
   "source": [
    "sales_2014.head()"
   ]
  },
  {
   "cell_type": "code",
   "execution_count": 108,
   "id": "a163ee51",
   "metadata": {},
   "outputs": [
    {
     "data": {
      "text/plain": [
       "Month\n",
       "April         448650.0\n",
       "August        174650.0\n",
       "December     1269690.0\n",
       "February      719370.0\n",
       "January      1188550.0\n",
       "July         1676900.0\n",
       "June          988500.0\n",
       "March         167440.0\n",
       "May           512780.0\n",
       "November      778890.0\n",
       "October       827080.0\n",
       "September     505840.0\n",
       "Name: Revenue, dtype: float64"
      ]
     },
     "execution_count": 108,
     "metadata": {},
     "output_type": "execute_result"
    }
   ],
   "source": [
    "Total_monthly_revenue_2014 = sales_2014.groupby(\"Month\")[\"Revenue\"].sum().sort_index()\n",
    "Total_monthly_revenue_2014"
   ]
  },
  {
   "cell_type": "code",
   "execution_count": 109,
   "id": "2abe4727",
   "metadata": {},
   "outputs": [
    {
     "data": {
      "text/plain": [
       "Month\n",
       "March         167440.0\n",
       "August        174650.0\n",
       "April         448650.0\n",
       "September     505840.0\n",
       "May           512780.0\n",
       "February      719370.0\n",
       "November      778890.0\n",
       "October       827080.0\n",
       "June          988500.0\n",
       "January      1188550.0\n",
       "December     1269690.0\n",
       "July         1676900.0\n",
       "Name: Revenue, dtype: float64"
      ]
     },
     "execution_count": 109,
     "metadata": {},
     "output_type": "execute_result"
    }
   ],
   "source": [
    "Total_monthly_revenue_sort_2014 = Total_monthly_revenue_2014.sort_values(ascending=True)\n",
    "Total_monthly_revenue_sort_2014"
   ]
  },
  {
   "cell_type": "code",
   "execution_count": 110,
   "id": "3233c2f5",
   "metadata": {},
   "outputs": [
    {
     "data": {
      "text/html": [
       "<div>\n",
       "<style scoped>\n",
       "    .dataframe tbody tr th:only-of-type {\n",
       "        vertical-align: middle;\n",
       "    }\n",
       "\n",
       "    .dataframe tbody tr th {\n",
       "        vertical-align: top;\n",
       "    }\n",
       "\n",
       "    .dataframe thead th {\n",
       "        text-align: right;\n",
       "    }\n",
       "</style>\n",
       "<table border=\"1\" class=\"dataframe\">\n",
       "  <thead>\n",
       "    <tr style=\"text-align: right;\">\n",
       "      <th></th>\n",
       "      <th>Branch</th>\n",
       "      <th>Sales Agent</th>\n",
       "      <th>Products</th>\n",
       "      <th>Units</th>\n",
       "      <th>Price</th>\n",
       "      <th>Revenue</th>\n",
       "      <th>Day</th>\n",
       "      <th>Month</th>\n",
       "      <th>Year</th>\n",
       "    </tr>\n",
       "    <tr>\n",
       "      <th>Date</th>\n",
       "      <th></th>\n",
       "      <th></th>\n",
       "      <th></th>\n",
       "      <th></th>\n",
       "      <th></th>\n",
       "      <th></th>\n",
       "      <th></th>\n",
       "      <th></th>\n",
       "      <th></th>\n",
       "    </tr>\n",
       "  </thead>\n",
       "  <tbody>\n",
       "    <tr>\n",
       "      <th>2015-06-17</th>\n",
       "      <td>Woji</td>\n",
       "      <td>Emeka</td>\n",
       "      <td>Apple</td>\n",
       "      <td>5</td>\n",
       "      <td>125.00</td>\n",
       "      <td>625000.0</td>\n",
       "      <td>Wednesday</td>\n",
       "      <td>June</td>\n",
       "      <td>2015</td>\n",
       "    </tr>\n",
       "    <tr>\n",
       "      <th>2015-09-10</th>\n",
       "      <td>Woji</td>\n",
       "      <td>Ibrahim</td>\n",
       "      <td>Lenovo</td>\n",
       "      <td>7</td>\n",
       "      <td>1.29</td>\n",
       "      <td>9030.0</td>\n",
       "      <td>Thursday</td>\n",
       "      <td>September</td>\n",
       "      <td>2015</td>\n",
       "    </tr>\n",
       "    <tr>\n",
       "      <th>2015-11-17</th>\n",
       "      <td>Woji</td>\n",
       "      <td>Tolu</td>\n",
       "      <td>HP</td>\n",
       "      <td>11</td>\n",
       "      <td>4.99</td>\n",
       "      <td>54890.0</td>\n",
       "      <td>Tuesday</td>\n",
       "      <td>November</td>\n",
       "      <td>2015</td>\n",
       "    </tr>\n",
       "    <tr>\n",
       "      <th>2015-10-31</th>\n",
       "      <td>Woji</td>\n",
       "      <td>Tonye</td>\n",
       "      <td>Lenovo</td>\n",
       "      <td>14</td>\n",
       "      <td>1.29</td>\n",
       "      <td>18060.0</td>\n",
       "      <td>Saturday</td>\n",
       "      <td>October</td>\n",
       "      <td>2015</td>\n",
       "    </tr>\n",
       "    <tr>\n",
       "      <th>2015-12-21</th>\n",
       "      <td>Woji</td>\n",
       "      <td>Tonye</td>\n",
       "      <td>HP</td>\n",
       "      <td>28</td>\n",
       "      <td>4.99</td>\n",
       "      <td>139720.0</td>\n",
       "      <td>Monday</td>\n",
       "      <td>December</td>\n",
       "      <td>2015</td>\n",
       "    </tr>\n",
       "  </tbody>\n",
       "</table>\n",
       "</div>"
      ],
      "text/plain": [
       "           Branch Sales Agent Products  Units   Price   Revenue        Day  \\\n",
       "Date                                                                         \n",
       "2015-06-17   Woji       Emeka    Apple      5  125.00  625000.0  Wednesday   \n",
       "2015-09-10   Woji     Ibrahim   Lenovo      7    1.29    9030.0   Thursday   \n",
       "2015-11-17   Woji        Tolu       HP     11    4.99   54890.0    Tuesday   \n",
       "2015-10-31   Woji       Tonye   Lenovo     14    1.29   18060.0   Saturday   \n",
       "2015-12-21   Woji       Tonye       HP     28    4.99  139720.0     Monday   \n",
       "\n",
       "                Month  Year  \n",
       "Date                         \n",
       "2015-06-17       June  2015  \n",
       "2015-09-10  September  2015  \n",
       "2015-11-17   November  2015  \n",
       "2015-10-31    October  2015  \n",
       "2015-12-21   December  2015  "
      ]
     },
     "execution_count": 110,
     "metadata": {},
     "output_type": "execute_result"
    }
   ],
   "source": [
    "sales_2015 = df[df[\"Year\"] == 2015]\n",
    "sales_2015.head()"
   ]
  },
  {
   "cell_type": "code",
   "execution_count": 111,
   "id": "7b47cebd",
   "metadata": {},
   "outputs": [
    {
     "data": {
      "text/plain": [
       "Month\n",
       "April         610380.0\n",
       "August       1830900.0\n",
       "December     2018780.0\n",
       "February     1324960.0\n",
       "January       413540.0\n",
       "July          996330.0\n",
       "June          625000.0\n",
       "March         389430.0\n",
       "May           787570.0\n",
       "November       54890.0\n",
       "October      1157490.0\n",
       "September     160270.0\n",
       "Name: Revenue, dtype: float64"
      ]
     },
     "execution_count": 111,
     "metadata": {},
     "output_type": "execute_result"
    }
   ],
   "source": [
    "Total_monthly_revenue_2015 = sales_2015.groupby(\"Month\")[\"Revenue\"].sum().sort_index()\n",
    "Total_monthly_revenue_2015"
   ]
  },
  {
   "cell_type": "code",
   "execution_count": 112,
   "id": "3eb3a502",
   "metadata": {},
   "outputs": [
    {
     "data": {
      "text/plain": [
       "Month\n",
       "November       54890.0\n",
       "September     160270.0\n",
       "March         389430.0\n",
       "January       413540.0\n",
       "April         610380.0\n",
       "June          625000.0\n",
       "May           787570.0\n",
       "July          996330.0\n",
       "October      1157490.0\n",
       "February     1324960.0\n",
       "August       1830900.0\n",
       "December     2018780.0\n",
       "Name: Revenue, dtype: float64"
      ]
     },
     "execution_count": 112,
     "metadata": {},
     "output_type": "execute_result"
    }
   ],
   "source": [
    "Total_monthly_revenue_sort_2015 = Total_monthly_revenue_2015.sort_values(ascending=True)\n",
    "Total_monthly_revenue_sort_2015"
   ]
  },
  {
   "cell_type": "code",
   "execution_count": 113,
   "id": "0d3aac06",
   "metadata": {},
   "outputs": [
    {
     "data": {
      "text/plain": [
       "<Axes: xlabel='Month', ylabel='Revenue'>"
      ]
     },
     "execution_count": 113,
     "metadata": {},
     "output_type": "execute_result"
    },
    {
     "data": {
      "image/png": "[encoded data removed]",
      "text/plain": [
       "<Figure size 640x480 with 1 Axes>"
      ]
     },
     "metadata": {},
     "output_type": "display_data"
    }
   ],
   "source": [
    "Total_monthly_revenue_sort_2014.plot(kind=\"bar\", xlabel=\"Month\", ylabel=\"Revenue\")"
   ]
  },
  {
   "cell_type": "code",
   "execution_count": 114,
   "id": "9261f98e",
   "metadata": {},
   "outputs": [
    {
     "data": {
      "text/plain": [
       "<Axes: xlabel='Month', ylabel='Revenue'>"
      ]
     },
     "execution_count": 114,
     "metadata": {},
     "output_type": "execute_result"
    },
    {
     "data": {
      "image/png": "[encoded data removed]",
      "text/plain": [
       "<Figure size 640x480 with 1 Axes>"
      ]
     },
     "metadata": {},
     "output_type": "display_data"
    }
   ],
   "source": [
    "Total_monthly_revenue_sort_2015.plot(kind=\"bar\", xlabel=\"Month\", ylabel=\"Revenue\")"
   ]
  },
  {
   "cell_type": "code",
   "execution_count": 115,
   "id": "4156513e",
   "metadata": {},
   "outputs": [
    {
     "data": {
      "text/plain": [
       "<Axes: ylabel='Revenue'>"
      ]
     },
     "execution_count": 115,
     "metadata": {},
     "output_type": "execute_result"
    },
    {
     "data": {
      "image/png": "[encoded data removed]",
      "text/plain": [
       "<Figure size 640x480 with 1 Axes>"
      ]
     },
     "metadata": {},
     "output_type": "display_data"
    }
   ],
   "source": [
    "total_revenue_sold_per_year.plot(kind=\"pie\")"
   ]
  },
  {
   "cell_type": "code",
   "execution_count": 116,
   "id": "3f34356f",
   "metadata": {},
   "outputs": [
    {
     "data": {
      "text/plain": [
       "<Axes: >"
      ]
     },
     "execution_count": 116,
     "metadata": {},
     "output_type": "execute_result"
    },
    {
     "data": {
      "image/png": "[encoded data removed]",
      "text/plain": [
       "<Figure size 500x500 with 1 Axes>"
      ]
     },
     "metadata": {},
     "output_type": "display_data"
    }
   ],
   "source": [
    "average_price_per_unit_year.plot(kind=\"pie\", figsize=(5, 5))"
   ]
  },
  {
   "cell_type": "code",
   "execution_count": 117,
   "id": "e04fe8a9",
   "metadata": {},
   "outputs": [
    {
     "data": {
      "image/png": "[encoded data removed]",
      "text/plain": [
       "<Figure size 640x480 with 1 Axes>"
      ]
     },
     "metadata": {},
     "output_type": "display_data"
    }
   ],
   "source": [
    "plt.bar(Total_monthly_revenue_sort_2014.index, Total_monthly_revenue_sort_2014.values)\n",
    "plt.xlabel(\"Month\")\n",
    "plt.ylabel(\"Revenue\")\n",
    "plt.title(\"Monthly Revenue in 2014\")\n",
    "plt.xticks(rotation = 45)\n",
    "plt.show()"
   ]
  },
  {
   "cell_type": "code",
   "execution_count": 118,
   "id": "7872fda3",
   "metadata": {},
   "outputs": [
    {
     "data": {
      "image/png": "[encoded data removed]",
      "text/plain": [
       "<Figure size 640x480 with 1 Axes>"
      ]
     },
     "metadata": {},
     "output_type": "display_data"
    }
   ],
   "source": [
    "plt.bar(Total_monthly_revenue_sort_2015.index, Total_monthly_revenue_sort_2015.values)\n",
    "plt.xlabel(\"Month\")\n",
    "plt.ylabel(\"Revenue\")\n",
    "plt.title(\"Monthly Revenue in 2014\")\n",
    "plt.xticks(rotation = 45)\n",
    "plt.show()"
   ]
  },
  {
   "cell_type": "code",
   "execution_count": 119,
   "id": "27b5a735",
   "metadata": {},
   "outputs": [
    {
     "data": {
      "text/plain": [
       "array(['Woji', 'GRA', 'Town'], dtype=object)"
      ]
     },
     "execution_count": 119,
     "metadata": {},
     "output_type": "execute_result"
    }
   ],
   "source": [
    "df[\"Branch\"].unique()"
   ]
  },
  {
   "cell_type": "code",
   "execution_count": 120,
   "id": "1fa223f1",
   "metadata": {},
   "outputs": [
    {
     "data": {
      "text/plain": [
       "Branch\n",
       "Town     2486720.0\n",
       "GRA      6002090.0\n",
       "Woji    11139070.0\n",
       "Name: Revenue, dtype: float64"
      ]
     },
     "execution_count": 120,
     "metadata": {},
     "output_type": "execute_result"
    }
   ],
   "source": [
    "Total_revenue_by_branch = df.groupby(\"Branch\")[\"Revenue\"].sum().sort_values(ascending=True)\n",
    "Total_revenue_by_branch"
   ]
  },
  {
   "cell_type": "code",
   "execution_count": 121,
   "id": "a67fe962",
   "metadata": {},
   "outputs": [
    {
     "data": {
      "text/plain": [
       "Branch  Year\n",
       "Town    2014     231120.0\n",
       "GRA     2015     808380.0\n",
       "Town    2015    2255600.0\n",
       "Woji    2014    3833510.0\n",
       "GRA     2014    5193710.0\n",
       "Woji    2015    7305560.0\n",
       "Name: Revenue, dtype: float64"
      ]
     },
     "execution_count": 121,
     "metadata": {},
     "output_type": "execute_result"
    }
   ],
   "source": [
    "Total_revenue_by_branch_year = df.groupby([\"Branch\", \"Year\"])[\"Revenue\"].sum().sort_values(ascending=True)\n",
    "Total_revenue_by_branch_year"
   ]
  },
  {
   "cell_type": "code",
   "execution_count": 122,
   "id": "0030059b",
   "metadata": {},
   "outputs": [
    {
     "data": {
      "text/plain": [
       "<Axes: xlabel='Branch,Year'>"
      ]
     },
     "execution_count": 122,
     "metadata": {},
     "output_type": "execute_result"
    },
    {
     "data": {
      "image/png": "[encoded data removed]",
      "text/plain": [
       "<Figure size 640x480 with 1 Axes>"
      ]
     },
     "metadata": {},
     "output_type": "display_data"
    }
   ],
   "source": [
    "Total_revenue_by_branch_year.plot(x=\"Revenue\", y=[\"Branch\", \"Year\"], kind=\"bar\")"
   ]
  },
  {
   "cell_type": "code",
   "execution_count": 123,
   "id": "5d040dc7",
   "metadata": {},
   "outputs": [
    {
     "data": {
      "text/plain": [
       "<Axes: title={'center': 'Revenue by branch per year'}, ylabel='Revenue'>"
      ]
     },
     "execution_count": 123,
     "metadata": {},
     "output_type": "execute_result"
    },
    {
     "data": {
      "image/png": "[encoded data removed]",
      "text/plain": [
       "<Figure size 640x480 with 1 Axes>"
      ]
     },
     "metadata": {},
     "output_type": "display_data"
    }
   ],
   "source": [
    "Total_revenue_by_branch_year.plot(kind=\"pie\", title=\"Revenue by branch per year\")"
   ]
  },
  {
   "cell_type": "code",
   "execution_count": 124,
   "id": "0d923a4a",
   "metadata": {},
   "outputs": [
    {
     "data": {
      "text/plain": [
       "<Axes: ylabel='Revenue'>"
      ]
     },
     "execution_count": 124,
     "metadata": {},
     "output_type": "execute_result"
    },
    {
     "data": {
      "image/png": "[encoded data removed]",
      "text/plain": [
       "<Figure size 640x480 with 1 Axes>"
      ]
     },
     "metadata": {},
     "output_type": "display_data"
    }
   ],
   "source": [
    "Total_revenue_by_branch.plot(kind=\"pie\")"
   ]
  },
  {
   "cell_type": "code",
   "execution_count": 125,
   "id": "8b5fceb9",
   "metadata": {},
   "outputs": [
    {
     "data": {
      "image/png": "[encoded data removed]",
      "text/plain": [
       "<Figure size 640x480 with 1 Axes>"
      ]
     },
     "metadata": {},
     "output_type": "display_data"
    }
   ],
   "source": [
    "plt.pie(Total_revenue_by_branch.values, labels=Total_revenue_by_branch.index, autopct='%1.1f%%')\n",
    "plt.xlabel(\"Branch\")\n",
    "plt.ylabel(\"Revenue\")\n",
    "plt.title(\"Total Revenue by branch\")\n",
    "plt.show()"
   ]
  },
  {
   "cell_type": "code",
   "execution_count": 134,
   "id": "7b47ba3b",
   "metadata": {},
   "outputs": [
    {
     "data": {
      "image/png": "[encoded data removed]",
      "text/plain": [
       "<Figure size 640x480 with 1 Axes>"
      ]
     },
     "metadata": {},
     "output_type": "display_data"
    }
   ],
   "source": [
    "plt.pie(Total_revenue_by_branch_year.values, labels=Total_revenue_by_branch_year.index, autopct='%1.1f%%')\n",
    "plt.xlabel(\"Branch\")\n",
    "plt.ylabel(\"Revenue\")\n",
    "plt.title(\"Total Revenue by branch\")\n",
    "plt.show()"
   ]
  },
  {
   "cell_type": "code",
   "execution_count": 127,
   "id": "5de0055e",
   "metadata": {},
   "outputs": [
    {
     "data": {
      "text/plain": [
       "array(['Apple', 'Lenovo', 'HP', 'Compaq', 'Dell'], dtype=object)"
      ]
     },
     "execution_count": 127,
     "metadata": {},
     "output_type": "execute_result"
    }
   ],
   "source": [
    "df[\"Products\"].unique()"
   ]
  },
  {
   "cell_type": "code",
   "execution_count": 128,
   "id": "2db84269",
   "metadata": {},
   "outputs": [
    {
     "data": {
      "text/plain": [
       "Products\n",
       "Apple     1700000.0\n",
       "Compaq    2045220.0\n",
       "Lenovo    2135140.0\n",
       "Dell      4169870.0\n",
       "HP        9577650.0\n",
       "Name: Revenue, dtype: float64"
      ]
     },
     "execution_count": 128,
     "metadata": {},
     "output_type": "execute_result"
    }
   ],
   "source": [
    "Revenue_by_Product = df.groupby(\"Products\")[\"Revenue\"].sum().sort_values(ascending=True)\n",
    "Revenue_by_Product"
   ]
  },
  {
   "cell_type": "code",
   "execution_count": 129,
   "id": "60532e48",
   "metadata": {},
   "outputs": [
    {
     "data": {
      "text/plain": [
       "Products\n",
       "Apple      10\n",
       "Compaq    278\n",
       "Dell      395\n",
       "Lenovo    716\n",
       "HP        722\n",
       "Name: Units, dtype: int64"
      ]
     },
     "execution_count": 129,
     "metadata": {},
     "output_type": "execute_result"
    }
   ],
   "source": [
    "Product_by_units = df.groupby(\"Products\")[\"Units\"].sum().sort_values(ascending=True)\n",
    "Product_by_units"
   ]
  },
  {
   "cell_type": "code",
   "execution_count": 130,
   "id": "b235473a",
   "metadata": {},
   "outputs": [
    {
     "data": {
      "text/plain": [
       "Products\n",
       "Apple     170000.00\n",
       "Compaq      7356.91\n",
       "Dell       10556.63\n",
       "HP         13265.44\n",
       "Lenovo      2982.04\n",
       "dtype: float64"
      ]
     },
     "execution_count": 130,
     "metadata": {},
     "output_type": "execute_result"
    }
   ],
   "source": [
    "Revenue_per_unit = round(Revenue_by_Product / Product_by_units,2)\n",
    "Revenue_per_unit"
   ]
  },
  {
   "cell_type": "code",
   "execution_count": 131,
   "id": "4b59d0d9",
   "metadata": {},
   "outputs": [
    {
     "data": {
      "text/plain": [
       "Products  Year\n",
       "Apple     2014     250000.0\n",
       "          2015    1450000.0\n",
       "Compaq    2014    1414940.0\n",
       "          2015     630280.0\n",
       "Dell      2014    1918140.0\n",
       "          2015    2251730.0\n",
       "HP        2014    3766920.0\n",
       "          2015    5810730.0\n",
       "Lenovo    2014    1908340.0\n",
       "          2015     226800.0\n",
       "Name: Revenue, dtype: float64"
      ]
     },
     "execution_count": 131,
     "metadata": {},
     "output_type": "execute_result"
    }
   ],
   "source": [
    "Revenue_Product_Year_Insight = df.groupby([\"Products\", \"Year\"])[\"Revenue\"].sum().sort_index()\n",
    "Revenue_Product_Year_Insight"
   ]
  },
  {
   "cell_type": "code",
   "execution_count": 132,
   "id": "d6ddc15d",
   "metadata": {},
   "outputs": [
    {
     "data": {
      "text/plain": [
       "Products  Year\n",
       "Apple     2014      2\n",
       "          2015      8\n",
       "Compaq    2014    106\n",
       "          2015    172\n",
       "Dell      2014    186\n",
       "          2015    209\n",
       "HP        2014    308\n",
       "          2015    414\n",
       "Lenovo    2014    576\n",
       "          2015    140\n",
       "Name: Units, dtype: int64"
      ]
     },
     "execution_count": 132,
     "metadata": {},
     "output_type": "execute_result"
    }
   ],
   "source": [
    "Units_Product_Year_Insight = df.groupby([\"Products\", \"Year\"])[\"Units\"].sum().sort_index()\n",
    "Units_Product_Year_Insight"
   ]
  },
  {
   "cell_type": "code",
   "execution_count": 133,
   "id": "8b2d5028",
   "metadata": {},
   "outputs": [
    {
     "data": {
      "text/plain": [
       "Products  Year\n",
       "Apple     2014    125000.00\n",
       "          2015    181250.00\n",
       "Compaq    2014     13348.49\n",
       "          2015      3664.42\n",
       "Dell      2014     10312.58\n",
       "          2015     10773.83\n",
       "HP        2014     12230.26\n",
       "          2015     14035.58\n",
       "Lenovo    2014      3313.09\n",
       "          2015      1620.00\n",
       "dtype: float64"
      ]
     },
     "execution_count": 133,
     "metadata": {},
     "output_type": "execute_result"
    }
   ],
   "source": [
    "Average_Product_Unit_Revenue_by_Year = round(Revenue_Product_Year_Insight / Units_Product_Year_Insight,2)\n",
    "Average_Product_Unit_Revenue_by_Year"
   ]
  },
  {
   "cell_type": "code",
   "execution_count": null,
   "id": "af48a333",
   "metadata": {},
   "outputs": [],
   "source": []
  }
 ],
 "metadata": {
  "kernelspec": {
   "display_name": "dataenv",
   "language": "python",
   "name": "python3"
  },
  "language_info": {
   "codemirror_mode": {
    "name": "ipython",
    "version": 3
   },
   "file_extension": ".py",
   "mimetype": "text/x-python",
   "name": "python",
   "nbconvert_exporter": "python",
   "pygments_lexer": "ipython3",
   "version": "3.13.5"
  }
 },
 "nbformat": 4,
 "nbformat_minor": 5
}
